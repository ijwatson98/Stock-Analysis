{
 "cells": [
  {
   "cell_type": "markdown",
   "metadata": {},
   "source": [
    "### BinaryGap"
   ]
  },
  {
   "cell_type": "code",
   "execution_count": null,
   "metadata": {},
   "outputs": [],
   "source": [
    "def binary_gap(integer):\n",
    "    bin = \"{0:b}\".format(integer)\n",
    "    if \"0\" not in bin: \n",
    "        return 0\n",
    "    else:\n",
    "        return max(map(len,bin.split('1'))) #map applies function to each item in list"
   ]
  },
  {
   "cell_type": "markdown",
   "metadata": {},
   "source": [
    "### CyclicRotation"
   ]
  },
  {
   "cell_type": "code",
   "execution_count": 2,
   "metadata": {},
   "outputs": [],
   "source": [
    "def solution(A, K):\n",
    "    n=len(A)\n",
    "    K%=n \n",
    "    if n>0: A=A[n-K:]+A[:n-K]\n",
    "    return A"
   ]
  },
  {
   "cell_type": "code",
   "execution_count": 3,
   "metadata": {},
   "outputs": [
    {
     "data": {
      "text/plain": [
       "[0, 0, 0, 0]"
      ]
     },
     "execution_count": 3,
     "metadata": {},
     "output_type": "execute_result"
    }
   ],
   "source": [
    "solution([1,2,3,4], 0)"
   ]
  },
  {
   "cell_type": "markdown",
   "metadata": {},
   "source": [
    "### OddOccurrencesInArray"
   ]
  },
  {
   "cell_type": "code",
   "execution_count": 110,
   "metadata": {},
   "outputs": [],
   "source": [
    "def solution(A):\n",
    "    if len(A) == 1:\n",
    "        return A[0]\n",
    "    A = sorted(A) #essentially pairs numbers       \n",
    "    for i in range(0 , len (A) , 2):  \n",
    "        if i+1 == len(A):\n",
    "            return A[i]\n",
    "        if A[i] != A[i+1]:\n",
    "            return A[i]"
   ]
  },
  {
   "cell_type": "code",
   "execution_count": 111,
   "metadata": {},
   "outputs": [
    {
     "name": "stdout",
     "output_type": "stream",
     "text": [
      "2.2 µs ± 469 ns per loop (mean ± std. dev. of 7 runs, 100000 loops each)\n"
     ]
    }
   ],
   "source": [
    "%timeit solution([1,4,4,5,1,1,1,])"
   ]
  },
  {
   "cell_type": "markdown",
   "metadata": {},
   "source": [
    "### FrogJmp"
   ]
  },
  {
   "cell_type": "code",
   "execution_count": 1,
   "metadata": {},
   "outputs": [],
   "source": [
    "def solution(X, Y, D):\n",
    "    return (Y-X)//D + ((Y-X)%D>0) #second part is 0 if false, 1 if true"
   ]
  },
  {
   "cell_type": "markdown",
   "metadata": {},
   "source": [
    "### PermMissingElem"
   ]
  },
  {
   "cell_type": "code",
   "execution_count": 2,
   "metadata": {},
   "outputs": [],
   "source": [
    "def solution(A):\n",
    "    if(len(A) == 0): return 1 #edge case of empty array\n",
    "    elif(len(A) == 1): #edge case of array length 1\n",
    "        if(A[0] == 1): return 2\n",
    "        else: return 1\n",
    "    else:\n",
    "        n, sum_val = len(A) + 1, sum(A)\n",
    "        return int(((n*(n+1)) / 2) - sum_val) #difference between expected sum (1-N+1) and actual sum"
   ]
  },
  {
   "cell_type": "markdown",
   "metadata": {},
   "source": [
    "### TapeEquilibrium"
   ]
  },
  {
   "cell_type": "code",
   "execution_count": null,
   "metadata": {},
   "outputs": [],
   "source": [
    "def solution(A):\n",
    "    sum_left, sum_right = 0, sum(A)\n",
    "    diff=[]\n",
    "    for i in A:\n",
    "        sum_left+=i\n",
    "        sum_right-=i\n",
    "        diff.append(abs(sum_left-sum_right))\n",
    "    diff=diff[:-1]\n",
    "    return min(diff)"
   ]
  },
  {
   "cell_type": "markdown",
   "metadata": {},
   "source": [
    "### FrogRiverOne"
   ]
  },
  {
   "cell_type": "code",
   "execution_count": null,
   "metadata": {},
   "outputs": [],
   "source": [
    "def solution(X, A):\n",
    "    # creating the steps the frog should make\n",
    "    steps = set([i for i in range(1,X+1)])\n",
    "    # creating the steps the frog already did\n",
    "    froggy_steps = set()\n",
    "    for index, leaf in enumerate(A):\n",
    "        froggy_steps.add(leaf)\n",
    "        if froggy_steps == steps:\n",
    "            return index\n",
    "    return -1"
   ]
  },
  {
   "cell_type": "markdown",
   "metadata": {},
   "source": [
    "### PermCheck"
   ]
  },
  {
   "cell_type": "code",
   "execution_count": null,
   "metadata": {},
   "outputs": [],
   "source": [
    "def solution(A):\n",
    "    count = [0]*max(A)\n",
    "    true=[0]*max(A)\n",
    "    for i in A:\n",
    "        count[i-1]+=1\n",
    "        if count[i-1]==1: true[i-1]=1\n",
    "        else: true[i-1]=0\n",
    "    if all(true): return 1\n",
    "    return 0"
   ]
  },
  {
   "cell_type": "code",
   "execution_count": null,
   "metadata": {},
   "outputs": [],
   "source": [
    "def solution(A):\n",
    "    n = len(A)\n",
    "    s = sum(set(A))\n",
    "    sum_seq = n * (n + 1) / 2\n",
    "    if s == sum_seq:\n",
    "        return 1\n",
    "    else:\n",
    "        return 0"
   ]
  }
 ],
 "metadata": {
  "kernelspec": {
   "display_name": "Python 3",
   "language": "python",
   "name": "python3"
  },
  "language_info": {
   "codemirror_mode": {
    "name": "ipython",
    "version": 3
   },
   "file_extension": ".py",
   "mimetype": "text/x-python",
   "name": "python",
   "nbconvert_exporter": "python",
   "pygments_lexer": "ipython3",
   "version": "3.8.3"
  }
 },
 "nbformat": 4,
 "nbformat_minor": 4
}
